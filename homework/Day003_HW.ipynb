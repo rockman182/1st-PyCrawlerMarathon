{
 "cells": [
  {
   "cell_type": "markdown",
   "metadata": {},
   "source": [
    "# Python 下載XML檔案與解析\n",
    "\n",
    "\n",
    "* 了解 xml 檔案格式與內容\n",
    "* 能夠利用套件存取 xml 格式的檔案\n"
   ]
  },
  {
   "cell_type": "markdown",
   "metadata": {},
   "source": [
    "## 作業目標\n",
    "\n",
    "* 比較一下範例檔案中的「File I/O」與「xmltodict」讀出來的內容有什麼差異\n",
    "\n",
    "* 根據範例檔案的結果：\n",
    "    1. 請問高雄市有多少地區有溫度資料？\n",
    "    2. 請取出每一個地區所記錄的第一個時間點跟溫度\n",
    "    3. 請取出第一個地區所記錄的每一個時間點跟溫度"
   ]
  },
  {
   "cell_type": "markdown",
   "metadata": {},
   "source": [
    "### 比較一下範例檔案中的「File I/O」與「xmltodict」讀出來的內容有什麼差異\n"
   ]
  },
  {
   "cell_type": "code",
   "execution_count": 1,
   "metadata": {},
   "outputs": [
    {
     "data": {
      "text/plain": [
       "'\\nxmltodict會把xml檔案格式轉成Python的dict格式，並大量利用OrderedDict\\n'"
      ]
     },
     "execution_count": 1,
     "metadata": {},
     "output_type": "execute_result"
    }
   ],
   "source": [
    "'''\n",
    "xmltodict會把xml檔案格式轉成Python的dict格式，並大量利用OrderedDict\n",
    "'''"
   ]
  },
  {
   "cell_type": "markdown",
   "metadata": {},
   "source": [
    "### 根據範例檔案的結果：\n",
    "\n",
    "1. 請問高雄市有多少地區有溫度資料？\n",
    "2. 請取出每一個地區所記錄的第一個時間點跟溫度\n",
    "3. 請取出第一個地區所記錄的每一個時間點跟溫度"
   ]
  },
  {
   "cell_type": "code",
   "execution_count": 34,
   "metadata": {},
   "outputs": [],
   "source": [
    "import xmltodict\n",
    "import pprint\n",
    "\n",
    "# 讀檔案 \n",
    "# encoding='UTF-8'要放在 \"r\",之後\n",
    "fh = open(\"./data/64_72hr_CH.xml\",\"r\",encoding='UTF-8')\n",
    "xml = fh.read()\n",
    "fh.close()\n",
    "d = dict(xmltodict.parse(xml))"
   ]
  },
  {
   "cell_type": "markdown",
   "metadata": {},
   "source": [
    "* 利用任意的xml viewer看其hiererchy\n",
    "* https://jsonformatter.org/xml-viewer\n",
    "* xml tree中若為{}, 表示dict,可用.keys()\n",
    "* 若為[]，表list\n",
    "* 若tree後面是{}則用['dict_key']\n",
    "* 若tree後面是[]則用[n]\n"
   ]
  },
  {
   "cell_type": "code",
   "execution_count": 32,
   "metadata": {},
   "outputs": [
    {
     "name": "stdout",
     "output_type": "stream",
     "text": [
      "odict_keys(['@xmlns', 'identifier', 'sender', 'sent', 'status', 'scope', 'msgType', 'dataid', 'source', 'dataset'])\n",
      "odict_keys(['datasetInfo', 'locations'])\n",
      "odict_keys(['locationsName', 'location'])\n",
      "odict_keys(['locationName', 'geocode', 'lat', 'lon', 'weatherElement'])\n",
      "odict_keys(['elementName', 'description', 'time'])\n",
      "odict_keys(['dataTime', 'elementValue'])\n",
      "odict_keys(['value', 'measures'])\n",
      "溫度\n",
      "27\n"
     ]
    }
   ],
   "source": [
    "\n",
    "#搭配xml trll逐層找出 溫度資料所在\n",
    "print(d['cwbopendata'].keys())\n",
    "print(d['cwbopendata']['dataset'].keys())\n",
    "print(d['cwbopendata']['dataset']['locations'].keys())\n",
    "print(d['cwbopendata']['dataset']['locations']['location'][0].keys())\n",
    "print(d['cwbopendata']['dataset']['locations']['location'][0]['weatherElement'][0].keys())\n",
    "print(d['cwbopendata']['dataset']['locations']['location'][0]['weatherElement'][0]['time'][0].keys())\n",
    "print(d['cwbopendata']['dataset']['locations']['location'][0]['weatherElement'][0]['time'][0]['elementValue'].keys())\n",
    "\n",
    "#取出溫度欄位\n",
    "print(d['cwbopendata']['dataset']['locations']['location'][0]['weatherElement'][0]['description'])\n",
    "\n",
    "#取出溫度值\n",
    "print(d['cwbopendata']['dataset']['locations']['location'][0]['weatherElement'][0]['time'][0]['elementValue']['value'])\n",
    "\n",
    "\n"
   ]
  },
  {
   "cell_type": "code",
   "execution_count": 76,
   "metadata": {},
   "outputs": [
    {
     "name": "stdout",
     "output_type": "stream",
     "text": [
      "高雄市有 38 個溫度資料\n"
     ]
    }
   ],
   "source": [
    "# 1. 請問高雄市有多少地區有溫度資料？\n",
    "count_temperature=0;\n",
    "for i in d['cwbopendata']['dataset']['locations']['location'] :\n",
    "    #pprint.pprint(i)\n",
    "    for j in i['weatherElement'] :\n",
    "        #pprint.pprint(j['description'])\n",
    "        if(j['description']=='溫度'):\n",
    "            count_temperature +=1;\n",
    "\n",
    "print('高雄市有 '+ str(count_temperature) + \" 個溫度資料\")\n",
    "        \n"
   ]
  },
  {
   "cell_type": "code",
   "execution_count": 106,
   "metadata": {},
   "outputs": [
    {
     "name": "stdout",
     "output_type": "stream",
     "text": [
      "鹽埕區 2019-11-25T12:00:00+08:00 27度\n",
      "鼓山區 2019-11-25T12:00:00+08:00 27度\n",
      "左營區 2019-11-25T12:00:00+08:00 27度\n",
      "楠梓區 2019-11-25T12:00:00+08:00 27度\n",
      "三民區 2019-11-25T12:00:00+08:00 27度\n",
      "新興區 2019-11-25T12:00:00+08:00 28度\n",
      "前金區 2019-11-25T12:00:00+08:00 27度\n",
      "苓雅區 2019-11-25T12:00:00+08:00 28度\n",
      "前鎮區 2019-11-25T12:00:00+08:00 28度\n",
      "旗津區 2019-11-25T12:00:00+08:00 27度\n",
      "小港區 2019-11-25T12:00:00+08:00 28度\n",
      "鳳山區 2019-11-25T12:00:00+08:00 28度\n",
      "林園區 2019-11-25T12:00:00+08:00 28度\n",
      "大寮區 2019-11-25T12:00:00+08:00 28度\n",
      "大樹區 2019-11-25T12:00:00+08:00 29度\n",
      "大社區 2019-11-25T12:00:00+08:00 28度\n",
      "仁武區 2019-11-25T12:00:00+08:00 28度\n",
      "鳥松區 2019-11-25T12:00:00+08:00 28度\n",
      "岡山區 2019-11-25T12:00:00+08:00 28度\n",
      "橋頭區 2019-11-25T12:00:00+08:00 28度\n",
      "燕巢區 2019-11-25T12:00:00+08:00 28度\n",
      "田寮區 2019-11-25T12:00:00+08:00 28度\n",
      "阿蓮區 2019-11-25T12:00:00+08:00 28度\n",
      "路竹區 2019-11-25T12:00:00+08:00 28度\n",
      "湖內區 2019-11-25T12:00:00+08:00 27度\n",
      "茄萣區 2019-11-25T12:00:00+08:00 26度\n",
      "永安區 2019-11-25T12:00:00+08:00 26度\n",
      "彌陀區 2019-11-25T12:00:00+08:00 27度\n",
      "梓官區 2019-11-25T12:00:00+08:00 27度\n",
      "旗山區 2019-11-25T12:00:00+08:00 28度\n",
      "美濃區 2019-11-25T12:00:00+08:00 29度\n",
      "六龜區 2019-11-25T12:00:00+08:00 28度\n",
      "甲仙區 2019-11-25T12:00:00+08:00 28度\n",
      "杉林區 2019-11-25T12:00:00+08:00 31度\n",
      "內門區 2019-11-25T12:00:00+08:00 29度\n",
      "茂林區 2019-11-25T12:00:00+08:00 29度\n",
      "桃源區 2019-11-25T12:00:00+08:00 27度\n",
      "那瑪夏區 2019-11-25T12:00:00+08:00 25度\n"
     ]
    }
   ],
   "source": [
    "# 2. 請取出每一個地區所記錄的第一個時間點跟溫度\n",
    "\n",
    "\n",
    "#第一個地區所記錄的第一個時間點\n",
    "#print(d['cwbopendata']['dataset']['locations']['location'][0]['weatherElement'][0]['time'][0]['dataTime'])\n",
    "#第一個地區所記錄的第一個時間點的溫度\n",
    "#print(d['cwbopendata']['dataset']['locations']['location'][0]['weatherElement'][0]['time'][0]['elementValue']['value'])\n",
    "\n",
    "#將上述['location][0]改成迭代\n",
    "for i in d['cwbopendata']['dataset']['locations']['location'] :\n",
    "    print(i['locationName'],\n",
    "          i['weatherElement'][0]['time'][0]['dataTime'],\n",
    "          i['weatherElement'][0]['time'][0]['elementValue']['value']+'度')\n",
    "\n"
   ]
  },
  {
   "cell_type": "code",
   "execution_count": 114,
   "metadata": {},
   "outputs": [
    {
     "name": "stdout",
     "output_type": "stream",
     "text": [
      "鹽埕區\n",
      "2019-11-25T12:00:00+08:00 27度\n",
      "2019-11-25T15:00:00+08:00 28度\n",
      "2019-11-25T18:00:00+08:00 26度\n",
      "2019-11-25T21:00:00+08:00 24度\n",
      "2019-11-26T00:00:00+08:00 23度\n",
      "2019-11-26T03:00:00+08:00 22度\n",
      "2019-11-26T06:00:00+08:00 22度\n",
      "2019-11-26T09:00:00+08:00 23度\n",
      "2019-11-26T12:00:00+08:00 26度\n",
      "2019-11-26T15:00:00+08:00 27度\n",
      "2019-11-26T18:00:00+08:00 25度\n",
      "2019-11-26T21:00:00+08:00 24度\n",
      "2019-11-27T00:00:00+08:00 23度\n",
      "2019-11-27T03:00:00+08:00 22度\n",
      "2019-11-27T06:00:00+08:00 22度\n",
      "2019-11-27T09:00:00+08:00 24度\n",
      "2019-11-27T12:00:00+08:00 27度\n",
      "2019-11-27T15:00:00+08:00 27度\n",
      "2019-11-27T18:00:00+08:00 25度\n",
      "2019-11-27T21:00:00+08:00 24度\n",
      "2019-11-28T00:00:00+08:00 22度\n",
      "2019-11-28T03:00:00+08:00 21度\n",
      "2019-11-28T06:00:00+08:00 21度\n",
      "2019-11-28T09:00:00+08:00 23度\n"
     ]
    }
   ],
   "source": [
    "# 3. 請取出第一個地區所記錄的每一個時間點跟溫度\n",
    "\n",
    "#第一個地區所記錄的第一個時間點\n",
    "#print(d['cwbopendata']['dataset']['locations']['location'][0]['weatherElement'][0]['time'][0]['dataTime'])\n",
    "#第一個地區所記錄的第一個時間點的溫度\n",
    "#print(d['cwbopendata']['dataset']['locations']['location'][0]['weatherElement'][0]['time'][0]['elementValue']['value'])\n",
    "\n",
    "#將上述['time][0]改成迭代\n",
    "print(d['cwbopendata']['dataset']['locations']['location'][0]['locationName'])\n",
    "for i in d['cwbopendata']['dataset']['locations']['location'][0]['weatherElement'][0]['time']:\n",
    "    print(i['dataTime'],i['elementValue']['value']+'度')\n",
    "    \n"
   ]
  },
  {
   "cell_type": "code",
   "execution_count": null,
   "metadata": {},
   "outputs": [],
   "source": []
  }
 ],
 "metadata": {
  "kernelspec": {
   "display_name": "Python 3",
   "language": "python",
   "name": "python3"
  },
  "language_info": {
   "codemirror_mode": {
    "name": "ipython",
    "version": 3
   },
   "file_extension": ".py",
   "mimetype": "text/x-python",
   "name": "python",
   "nbconvert_exporter": "python",
   "pygments_lexer": "ipython3",
   "version": "3.7.5"
  }
 },
 "nbformat": 4,
 "nbformat_minor": 2
}
